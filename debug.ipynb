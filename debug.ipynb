{
 "cells": [
  {
   "cell_type": "code",
   "execution_count": 1,
   "id": "initial_id",
   "metadata": {
    "collapsed": true,
    "ExecuteTime": {
     "end_time": "2023-08-10T01:09:56.641761400Z",
     "start_time": "2023-08-10T01:09:54.465786Z"
    }
   },
   "outputs": [],
   "source": [
    "import os\n",
    "import time\n",
    "import streamlit as st\n",
    "from influxdb_client_3 import InfluxDBClient3, Point\n",
    "from streamlit_image_coordinates import streamlit_image_coordinates\n",
    "import pandas as pd"
   ]
  },
  {
   "cell_type": "code",
   "execution_count": 8,
   "outputs": [],
   "source": [
    "def get_sensor_log():\n",
    "\ttoken = \"t2RX7jFmoZkw-mf61PMyqyMqtZtvCg9EUXHFZCUtQk5bnhGxEHc5Kfr4gCkgWbVFodaz4BjtE_MMGGLkScLPeQ==\"\n",
    "\torg = \"ytp\"\n",
    "\thost = \"https://us-east-1-1.aws.cloud2.influxdata.com\"\n",
    "\tclient = InfluxDBClient3(host=host, token=token, org=org)\n",
    "\tquery = \"\"\"\n",
    "    SELECT * \n",
    "    FROM 'sensor_port' \n",
    "    \"\"\"\n",
    "\ttable = client.query(query=query, database=\"sensor_ytp\", language=\"sql\")\n",
    "\t# Convert to dataframe\n",
    "\tdf = table.to_pandas().sort_values(by=\"time\")\n",
    "\treturn df"
   ],
   "metadata": {
    "collapsed": false,
    "ExecuteTime": {
     "end_time": "2023-08-10T01:11:20.990532400Z",
     "start_time": "2023-08-10T01:11:20.969951500Z"
    }
   },
   "id": "59da68a80e95331a"
  },
  {
   "cell_type": "code",
   "execution_count": null,
   "outputs": [],
   "source": [
    "df = get_sensor_log().set_index(\"time\").resample(\"1T\").mean().reset_index()\n",
    "df['id'] = 1\n",
    "df\n",
    "\n",
    "# change time to 1,2,3 .. n\n",
    "df['time'] = df.index\n",
    "\n"
   ],
   "metadata": {
    "collapsed": false
   },
   "id": "ed61dede5e003e35"
  },
  {
   "cell_type": "code",
   "execution_count": null,
   "outputs": [],
   "source": [
    "# resample to 1 minute\n",
    "df = get_sensor_log().set_index(\"time\").resample(\"1T\").mean().reset_index()\n",
    "df"
   ],
   "metadata": {
    "collapsed": false
   },
   "id": "3b2e11b7384ff2b7"
  },
  {
   "cell_type": "code",
   "execution_count": null,
   "outputs": [],
   "source": [
    "from mlforecast import MLForecast\n",
    "from mlforecast.target_transforms import Differences\n",
    "from mlforecast.utils import PredictionIntervals\n",
    "import lightgbm\n",
    "\n",
    "# Create a list of models and instantiation parameters \n",
    "models = [\n",
    "\tlightgbmRegressor(\n",
    "\t\tn_estimators=100,\n",
    "\t\tlearning_rate=0.1,\n",
    "\t\tnum_leaves=32,\n",
    "\t\tbooster=\"gbdt\",\n",
    "\t),\n",
    "]"
   ],
   "metadata": {
    "collapsed": false
   },
   "id": "f37d6c5cadc3514"
  },
  {
   "cell_type": "code",
   "execution_count": 9,
   "outputs": [
    {
     "ename": "FlightUnavailableError",
     "evalue": "Flight returned unavailable error, with message: empty address list: . gRPC client debug context: UNKNOWN:empty address list:  {created_time:\"2023-08-10T01:11:21.59823796+00:00\", grpc_status:14}. Client context: IOError: Server never sent a data message. Detail: Internal",
     "output_type": "error",
     "traceback": [
      "\u001B[1;31m---------------------------------------------------------------------------\u001B[0m",
      "\u001B[1;31mFlightUnavailableError\u001B[0m                    Traceback (most recent call last)",
      "Cell \u001B[1;32mIn[9], line 1\u001B[0m\n\u001B[1;32m----> 1\u001B[0m raw_sensor \u001B[38;5;241m=\u001B[39m \u001B[43mget_sensor_log\u001B[49m\u001B[43m(\u001B[49m\u001B[43m)\u001B[49m\n\u001B[0;32m      2\u001B[0m raw_sensor\n",
      "Cell \u001B[1;32mIn[8], line 10\u001B[0m, in \u001B[0;36mget_sensor_log\u001B[1;34m()\u001B[0m\n\u001B[0;32m      5\u001B[0m \tclient \u001B[38;5;241m=\u001B[39m InfluxDBClient3(host\u001B[38;5;241m=\u001B[39mhost, token\u001B[38;5;241m=\u001B[39mtoken, org\u001B[38;5;241m=\u001B[39morg)\n\u001B[0;32m      6\u001B[0m \tquery \u001B[38;5;241m=\u001B[39m \u001B[38;5;124m\"\"\"\u001B[39m\n\u001B[0;32m      7\u001B[0m \u001B[38;5;124m    SELECT * \u001B[39m\n\u001B[0;32m      8\u001B[0m \u001B[38;5;124m    FROM \u001B[39m\u001B[38;5;124m'\u001B[39m\u001B[38;5;124msensor_port\u001B[39m\u001B[38;5;124m'\u001B[39m\u001B[38;5;124m \u001B[39m\n\u001B[0;32m      9\u001B[0m \u001B[38;5;124m    \u001B[39m\u001B[38;5;124m\"\"\"\u001B[39m\n\u001B[1;32m---> 10\u001B[0m \ttable \u001B[38;5;241m=\u001B[39m \u001B[43mclient\u001B[49m\u001B[38;5;241;43m.\u001B[39;49m\u001B[43mquery\u001B[49m\u001B[43m(\u001B[49m\u001B[43mquery\u001B[49m\u001B[38;5;241;43m=\u001B[39;49m\u001B[43mquery\u001B[49m\u001B[43m,\u001B[49m\u001B[43m \u001B[49m\u001B[43mdatabase\u001B[49m\u001B[38;5;241;43m=\u001B[39;49m\u001B[38;5;124;43m\"\u001B[39;49m\u001B[38;5;124;43msensor_ytp\u001B[39;49m\u001B[38;5;124;43m\"\u001B[39;49m\u001B[43m,\u001B[49m\u001B[43m \u001B[49m\u001B[43mlanguage\u001B[49m\u001B[38;5;241;43m=\u001B[39;49m\u001B[38;5;124;43m\"\u001B[39;49m\u001B[38;5;124;43msql\u001B[39;49m\u001B[38;5;124;43m\"\u001B[39;49m\u001B[43m)\u001B[49m\n\u001B[0;32m     11\u001B[0m \t\u001B[38;5;66;03m# Convert to dataframe\u001B[39;00m\n\u001B[0;32m     12\u001B[0m \tdf \u001B[38;5;241m=\u001B[39m table\u001B[38;5;241m.\u001B[39mto_pandas()\u001B[38;5;241m.\u001B[39msort_values(by\u001B[38;5;241m=\u001B[39m\u001B[38;5;124m\"\u001B[39m\u001B[38;5;124mtime\u001B[39m\u001B[38;5;124m\"\u001B[39m)\n",
      "File \u001B[1;32m~\\anaconda3\\envs\\digital_intelligence\\lib\\site-packages\\influxdb_client_3\\__init__.py:196\u001B[0m, in \u001B[0;36mInfluxDBClient3.query\u001B[1;34m(self, query, language, mode, database, **kwargs)\u001B[0m\n\u001B[0;32m    194\u001B[0m     \u001B[38;5;28;01mreturn\u001B[39;00m mode_func() \u001B[38;5;28;01mif\u001B[39;00m \u001B[38;5;28mcallable\u001B[39m(mode_func) \u001B[38;5;28;01melse\u001B[39;00m mode_func\n\u001B[0;32m    195\u001B[0m \u001B[38;5;28;01mexcept\u001B[39;00m \u001B[38;5;167;01mException\u001B[39;00m \u001B[38;5;28;01mas\u001B[39;00m e:\n\u001B[1;32m--> 196\u001B[0m     \u001B[38;5;28;01mraise\u001B[39;00m e\n",
      "File \u001B[1;32m~\\anaconda3\\envs\\digital_intelligence\\lib\\site-packages\\influxdb_client_3\\__init__.py:184\u001B[0m, in \u001B[0;36mInfluxDBClient3.query\u001B[1;34m(self, query, language, mode, database, **kwargs)\u001B[0m\n\u001B[0;32m    182\u001B[0m ticket_data \u001B[38;5;241m=\u001B[39m {\u001B[38;5;124m\"\u001B[39m\u001B[38;5;124mdatabase\u001B[39m\u001B[38;5;124m\"\u001B[39m: database, \u001B[38;5;124m\"\u001B[39m\u001B[38;5;124msql_query\u001B[39m\u001B[38;5;124m\"\u001B[39m: query, \u001B[38;5;124m\"\u001B[39m\u001B[38;5;124mquery_type\u001B[39m\u001B[38;5;124m\"\u001B[39m: language}\n\u001B[0;32m    183\u001B[0m ticket \u001B[38;5;241m=\u001B[39m Ticket(json\u001B[38;5;241m.\u001B[39mdumps(ticket_data)\u001B[38;5;241m.\u001B[39mencode(\u001B[38;5;124m'\u001B[39m\u001B[38;5;124mutf-8\u001B[39m\u001B[38;5;124m'\u001B[39m))\n\u001B[1;32m--> 184\u001B[0m flight_reader \u001B[38;5;241m=\u001B[39m \u001B[38;5;28;43mself\u001B[39;49m\u001B[38;5;241;43m.\u001B[39;49m\u001B[43m_flight_client\u001B[49m\u001B[38;5;241;43m.\u001B[39;49m\u001B[43mdo_get\u001B[49m\u001B[43m(\u001B[49m\u001B[43mticket\u001B[49m\u001B[43m,\u001B[49m\u001B[43m \u001B[49m\u001B[43m_options\u001B[49m\u001B[43m)\u001B[49m\n\u001B[0;32m    186\u001B[0m mode_func \u001B[38;5;241m=\u001B[39m {\n\u001B[0;32m    187\u001B[0m     \u001B[38;5;124m\"\u001B[39m\u001B[38;5;124mall\u001B[39m\u001B[38;5;124m\"\u001B[39m: flight_reader\u001B[38;5;241m.\u001B[39mread_all,\n\u001B[0;32m    188\u001B[0m     \u001B[38;5;124m\"\u001B[39m\u001B[38;5;124mpandas\u001B[39m\u001B[38;5;124m\"\u001B[39m: flight_reader\u001B[38;5;241m.\u001B[39mread_pandas,\n\u001B[1;32m   (...)\u001B[0m\n\u001B[0;32m    191\u001B[0m     \u001B[38;5;124m\"\u001B[39m\u001B[38;5;124mschema\u001B[39m\u001B[38;5;124m\"\u001B[39m: \u001B[38;5;28;01mlambda\u001B[39;00m: flight_reader\u001B[38;5;241m.\u001B[39mschema\n\u001B[0;32m    192\u001B[0m }\u001B[38;5;241m.\u001B[39mget(mode, flight_reader\u001B[38;5;241m.\u001B[39mread_all)\n\u001B[0;32m    194\u001B[0m \u001B[38;5;28;01mreturn\u001B[39;00m mode_func() \u001B[38;5;28;01mif\u001B[39;00m \u001B[38;5;28mcallable\u001B[39m(mode_func) \u001B[38;5;28;01melse\u001B[39;00m mode_func\n",
      "File \u001B[1;32m~\\anaconda3\\envs\\digital_intelligence\\lib\\site-packages\\pyarrow\\_flight.pyx:1560\u001B[0m, in \u001B[0;36mpyarrow._flight.FlightClient.do_get\u001B[1;34m()\u001B[0m\n",
      "File \u001B[1;32m~\\anaconda3\\envs\\digital_intelligence\\lib\\site-packages\\pyarrow\\_flight.pyx:68\u001B[0m, in \u001B[0;36mpyarrow._flight.check_flight_status\u001B[1;34m()\u001B[0m\n",
      "\u001B[1;31mFlightUnavailableError\u001B[0m: Flight returned unavailable error, with message: empty address list: . gRPC client debug context: UNKNOWN:empty address list:  {created_time:\"2023-08-10T01:11:21.59823796+00:00\", grpc_status:14}. Client context: IOError: Server never sent a data message. Detail: Internal"
     ]
    }
   ],
   "source": [
    "raw_sensor = get_sensor_log()[['']]\n",
    "raw_sensor"
   ],
   "metadata": {
    "collapsed": false,
    "ExecuteTime": {
     "end_time": "2023-08-10T01:11:21.670717800Z",
     "start_time": "2023-08-10T01:11:21.542477300Z"
    }
   },
   "id": "f571442fc1cc0da4"
  }
 ],
 "metadata": {
  "kernelspec": {
   "display_name": "Python 3",
   "language": "python",
   "name": "python3"
  },
  "language_info": {
   "codemirror_mode": {
    "name": "ipython",
    "version": 2
   },
   "file_extension": ".py",
   "mimetype": "text/x-python",
   "name": "python",
   "nbconvert_exporter": "python",
   "pygments_lexer": "ipython2",
   "version": "2.7.6"
  }
 },
 "nbformat": 4,
 "nbformat_minor": 5
}
